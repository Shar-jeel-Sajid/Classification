{
 "cells": [
  {
   "cell_type": "markdown",
   "id": "b2859686-0c33-4788-8167-2ca40ab026a8",
   "metadata": {},
   "source": [
    " Downloading the Data"
   ]
  },
  {
   "cell_type": "code",
   "execution_count": 1,
   "id": "c6db7e2a-859a-4a5e-870a-547eef74016b",
   "metadata": {},
   "outputs": [],
   "source": [
    "import os\n",
    "import tarfile\n",
    "import urllib.request"
   ]
  },
  {
   "cell_type": "code",
   "execution_count": 2,
   "id": "2de22dd8-d7fc-4909-b1c7-2492dafc40a3",
   "metadata": {},
   "outputs": [],
   "source": [
    "Down_path_root = \"http://spamassassin.apache.org/old/publiccorpus/\"\n",
    "spam_path = Down_path_root + \"20030228_easy_ham.tar.bz2\"\n",
    "ham_path = Down_path_root + \"20030228_spam.tar.bz2\"\n",
    "out_path = os.path.join(\"datasets\",\"spam\")\n",
    "\n",
    "def fetch_data(ham_url = ham_path,spam_url = spam_path,output = out_path):\n",
    "    if not os.path.isdir(output):\n",
    "        os.makedirs(output)\n",
    "    for filename,url in ((\"ham.tar.bz2\",ham_url),(\"spam.tar.bz2\",spam_url)):\n",
    "        path = os.path.join(output,filename)\n",
    "        if not os.path.isfile(path):\n",
    "            urllib.request.urlretrieve(url,path)\n",
    "        tar_bz2_file = tarfile.open(path)\n",
    "        tar_bz2_file.extractall(path=output)\n",
    "        tar_bz2_file.close()"
   ]
  },
  {
   "cell_type": "code",
   "execution_count": 2,
   "id": "869e85b6-1bcd-4309-8705-4f3ba73425a3",
   "metadata": {},
   "outputs": [],
   "source": [
    "fetch_data()"
   ]
  },
  {
   "cell_type": "markdown",
   "id": "e9a7beeb-3ec4-4ed7-9d28-4818cb139cc5",
   "metadata": {},
   "source": [
    "Loading the Data"
   ]
  },
  {
   "cell_type": "code",
   "execution_count": 3,
   "id": "9066f1a3-8829-4af4-b32f-358f5875b548",
   "metadata": {},
   "outputs": [],
   "source": [
    "hamDir = os.path.join(out_path,\"easy_ham\")\n",
    "spamDir = os.path.join(out_path,\"spam\")\n",
    "hamFileNames = [name for name in sorted(os.listdir(hamDir)) if len(name) > 20]\n",
    "spamFileNames = [name for name in sorted(os.listdir(spamDir)) if len(name) > 20]"
   ]
  },
  {
   "cell_type": "code",
   "execution_count": 4,
   "id": "bceb40c3-a4fd-4ecc-a85e-1d1231770b91",
   "metadata": {},
   "outputs": [
    {
     "data": {
      "text/plain": [
       "2500"
      ]
     },
     "execution_count": 4,
     "metadata": {},
     "output_type": "execute_result"
    }
   ],
   "source": [
    "len(hamFileNames)"
   ]
  },
  {
   "cell_type": "code",
   "execution_count": 5,
   "id": "ea8f20ab-6e48-4325-8570-57f47d60220b",
   "metadata": {},
   "outputs": [
    {
     "data": {
      "text/plain": [
       "500"
      ]
     },
     "execution_count": 5,
     "metadata": {},
     "output_type": "execute_result"
    }
   ],
   "source": [
    "len(spamFileNames)"
   ]
  },
  {
   "cell_type": "markdown",
   "id": "931bb05a-1e58-4199-b7e6-a17efe47b055",
   "metadata": {},
   "source": [
    "using Python Email module for parsing"
   ]
  },
  {
   "cell_type": "code",
   "execution_count": 6,
   "id": "ae7f62ca-9298-41f6-bacc-53062854b331",
   "metadata": {},
   "outputs": [],
   "source": [
    "import email\n",
    "import email.policy\n",
    "\n",
    "def load_email(is_spam, filename, spamPath = out_path):\n",
    "    directory = \"spam\" if is_spam else \"easy_ham\"\n",
    "    with open(os.path.join(spamPath,directory,filename),\"rb\") as f:\n",
    "        return email.parser.BytesParser(policy=email.policy.default).parse(f)"
   ]
  },
  {
   "cell_type": "code",
   "execution_count": 7,
   "id": "7dfc982c-cb85-43f1-989b-911d87c43105",
   "metadata": {},
   "outputs": [],
   "source": [
    "hamEmails = [load_email(is_spam = False, filename = name) for name in hamFileNames]\n",
    "spamEmails = [load_email(is_spam = True, filename = name) for name in spamFileNames]"
   ]
  },
  {
   "cell_type": "code",
   "execution_count": 8,
   "id": "c8312e19-5569-4629-a8f6-651ecf24a55b",
   "metadata": {},
   "outputs": [
    {
     "data": {
      "text/plain": [
       "2500"
      ]
     },
     "execution_count": 8,
     "metadata": {},
     "output_type": "execute_result"
    }
   ],
   "source": [
    "len(hamEmails)"
   ]
  },
  {
   "cell_type": "code",
   "execution_count": 10,
   "id": "cb676564-e3a8-4133-a16c-1510d6ce4953",
   "metadata": {},
   "outputs": [],
   "source": [
    "def get_email_structure(email):\n",
    "    if isinstance(email,str):\n",
    "        return email\n",
    "    payload = email.get_payload()\n",
    "    if isinstance(payload, list):\n",
    "        return \"multipart(())\".format(\",\".join([\n",
    "            get_email_structure(sub_email)\n",
    "            for sub_email in payload\n",
    "        ]))\n",
    "    else:\n",
    "        return email.get_content_type()"
   ]
  },
  {
   "cell_type": "code",
   "execution_count": 11,
   "id": "9fcca159-6756-42b9-a8f4-dae69df20417",
   "metadata": {},
   "outputs": [],
   "source": [
    "from collections import Counter\n",
    "\n",
    "def structure_counter(emails):\n",
    "    structures = Counter()\n",
    "    for email in emails:\n",
    "        structure = get_email_structure(email)\n",
    "        structures[structure] += 1\n",
    "    return structures"
   ]
  },
  {
   "cell_type": "code",
   "execution_count": 12,
   "id": "533568df-1394-420c-86bb-8fd22afc0bc7",
   "metadata": {},
   "outputs": [
    {
     "data": {
      "text/plain": [
       "[('text/plain', 2408), ('multipart(())', 92)]"
      ]
     },
     "execution_count": 12,
     "metadata": {},
     "output_type": "execute_result"
    }
   ],
   "source": [
    "structure_counter(hamEmails).most_common()"
   ]
  },
  {
   "cell_type": "code",
   "execution_count": 13,
   "id": "0a4c8ed8-fdb2-496e-bc7e-3d97491c3dcd",
   "metadata": {},
   "outputs": [
    {
     "data": {
      "text/plain": [
       "[('text/plain', 218),\n",
       " ('text/html', 183),\n",
       " ('multipart(())', 98),\n",
       " ('multipart/alternative', 1)]"
      ]
     },
     "execution_count": 13,
     "metadata": {},
     "output_type": "execute_result"
    }
   ],
   "source": [
    "structure_counter(spamEmails).most_common()"
   ]
  },
  {
   "cell_type": "code",
   "execution_count": 15,
   "id": "a52104ad-95bf-426a-894a-1adf8c447cfe",
   "metadata": {},
   "outputs": [
    {
     "name": "stdout",
     "output_type": "stream",
     "text": [
      "Return-Path : <12a1mailbot1@web.de>\n",
      "Delivered-To : zzzz@localhost.spamassassin.taint.org\n",
      "Received : from localhost (localhost [127.0.0.1])\tby phobos.labs.spamassassin.taint.org (Postfix) with ESMTP id 136B943C32\tfor <zzzz@localhost>; Thu, 22 Aug 2002 08:17:21 -0400 (EDT)\n",
      "Received : from mail.webnote.net [193.120.211.219]\tby localhost with POP3 (fetchmail-5.9.0)\tfor zzzz@localhost (single-drop); Thu, 22 Aug 2002 13:17:21 +0100 (IST)\n",
      "Received : from dd_it7 ([210.97.77.167])\tby webnote.net (8.9.3/8.9.3) with ESMTP id NAA04623\tfor <zzzz@spamassassin.taint.org>; Thu, 22 Aug 2002 13:09:41 +0100\n",
      "From : 12a1mailbot1@web.de\n",
      "Received : from r-smtp.korea.com - 203.122.2.197 by dd_it7  with Microsoft SMTPSVC(5.5.1775.675.6);\t Sat, 24 Aug 2002 09:42:10 +0900\n",
      "To : dcek1a1@netsgo.com\n",
      "Subject : Life Insurance - Why Pay More?\n",
      "Date : Wed, 21 Aug 2002 20:31:57 -1600\n",
      "MIME-Version : 1.0\n",
      "Message-ID : <0103c1042001882DD_IT7@dd_it7>\n",
      "Content-Type : text/html; charset=\"iso-8859-1\"\n",
      "Content-Transfer-Encoding : quoted-printable\n"
     ]
    }
   ],
   "source": [
    "for header, value in spamEmails[0].items():\n",
    "    print(header,\":\",value)"
   ]
  },
  {
   "cell_type": "code",
   "execution_count": 16,
   "id": "e7c20359-b126-4392-919b-49220609ccc9",
   "metadata": {},
   "outputs": [
    {
     "data": {
      "text/plain": [
       "'Life Insurance - Why Pay More?'"
      ]
     },
     "execution_count": 16,
     "metadata": {},
     "output_type": "execute_result"
    }
   ],
   "source": [
    "spamEmails[0][\"Subject\"]"
   ]
  },
  {
   "cell_type": "markdown",
   "id": "333b42a1-ffce-4350-bdb6-ec06dbacf025",
   "metadata": {},
   "source": [
    "Splitting DataSet"
   ]
  },
  {
   "cell_type": "code",
   "execution_count": 17,
   "id": "c6d2775d-3f5d-4efa-ae2a-bd461a5c5f62",
   "metadata": {},
   "outputs": [],
   "source": [
    "import numpy as np\n",
    "from sklearn.model_selection import train_test_split\n",
    "\n",
    "X = np.array(hamEmails+spamEmails,dtype = object)\n",
    "y = np.array([0] * len(hamEmails) + [1] * len(spamEmails))\n",
    "\n",
    "X_train,X_test,y_train,y_test = train_test_split(X,y,test_size = 0.2, random_state = 42)"
   ]
  },
  {
   "cell_type": "code",
   "execution_count": null,
   "id": "99f6c76b-0f84-454d-847b-6b3b6262b71d",
   "metadata": {},
   "outputs": [],
   "source": []
  }
 ],
 "metadata": {
  "kernelspec": {
   "display_name": "Python 3 (ipykernel)",
   "language": "python",
   "name": "python3"
  },
  "language_info": {
   "codemirror_mode": {
    "name": "ipython",
    "version": 3
   },
   "file_extension": ".py",
   "mimetype": "text/x-python",
   "name": "python",
   "nbconvert_exporter": "python",
   "pygments_lexer": "ipython3",
   "version": "3.12.3"
  }
 },
 "nbformat": 4,
 "nbformat_minor": 5
}
