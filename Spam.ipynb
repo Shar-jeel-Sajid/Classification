{
 "cells": [
  {
   "cell_type": "markdown",
   "id": "b2859686-0c33-4788-8167-2ca40ab026a8",
   "metadata": {},
   "source": [
    " Downloading the Data"
   ]
  },
  {
   "cell_type": "code",
   "execution_count": 1,
   "id": "594d07ca-8c60-434e-87c0-f6901444b9aa",
   "metadata": {},
   "outputs": [],
   "source": [
    "import os\n",
    "import tarfile\n",
    "import urllib.request\n",
    "\n",
    "Down_path_root = \"http://spamassassin.apache.org/old/publiccorpus/\"\n",
    "spam_path = Down_path_root + \"20030228_easy_ham.tar.bz2\"\n",
    "ham_path = Down_path_root + \"20030228_spam.tar.bz2\"\n",
    "out_path = os.path.join(\"datasets\",\"spam\")\n",
    "\n",
    "def fetch_data(ham_url = ham_path,spam_url = spam_path,output = out_path):\n",
    "    if not os.path.isdir(output):\n",
    "        os.makedirs(output)\n",
    "    for filename,url in ((\"ham.tar.bz2\",ham_url),(\"spam.tar.bz2\",spam_url)):\n",
    "        path = os.path.join(output,filename)\n",
    "        if not os.path.isfile(path):\n",
    "            urllib.request.urlretrieve(url,path)\n",
    "        tar_bz2_file = tarfile.open(path)\n",
    "        tar_bz2_file.extractall(path=output)\n",
    "        tar_bz2_file.close()"
   ]
  },
  {
   "cell_type": "code",
   "execution_count": 2,
   "id": "869e85b6-1bcd-4309-8705-4f3ba73425a3",
   "metadata": {},
   "outputs": [],
   "source": [
    "fetch_data()"
   ]
  },
  {
   "cell_type": "markdown",
   "id": "e9a7beeb-3ec4-4ed7-9d28-4818cb139cc5",
   "metadata": {},
   "source": [
    "Loading the Data"
   ]
  },
  {
   "cell_type": "code",
   "execution_count": 4,
   "id": "9066f1a3-8829-4af4-b32f-358f5875b548",
   "metadata": {},
   "outputs": [],
   "source": [
    "hamDir = os.path.join(out_path,\"easy_ham\")\n",
    "spamDir = os.path.join(out_path,\"spam\")\n",
    "hamFileNames = [name for name in sorted(os.listdir(hamDir)) if len(name) > 20]\n",
    "spamFileNames = [name for name in sorted(os.listdir(spamDir)) if len(name) > 20]"
   ]
  },
  {
   "cell_type": "code",
   "execution_count": 5,
   "id": "bceb40c3-a4fd-4ecc-a85e-1d1231770b91",
   "metadata": {},
   "outputs": [
    {
     "data": {
      "text/plain": [
       "2500"
      ]
     },
     "execution_count": 5,
     "metadata": {},
     "output_type": "execute_result"
    }
   ],
   "source": [
    "len(hamFileNames)"
   ]
  },
  {
   "cell_type": "code",
   "execution_count": 6,
   "id": "ea8f20ab-6e48-4325-8570-57f47d60220b",
   "metadata": {},
   "outputs": [
    {
     "data": {
      "text/plain": [
       "500"
      ]
     },
     "execution_count": 6,
     "metadata": {},
     "output_type": "execute_result"
    }
   ],
   "source": [
    "len(spamFileNames)"
   ]
  }
 ],
 "metadata": {
  "kernelspec": {
   "display_name": "Python 3 (ipykernel)",
   "language": "python",
   "name": "python3"
  },
  "language_info": {
   "codemirror_mode": {
    "name": "ipython",
    "version": 3
   },
   "file_extension": ".py",
   "mimetype": "text/x-python",
   "name": "python",
   "nbconvert_exporter": "python",
   "pygments_lexer": "ipython3",
   "version": "3.12.3"
  }
 },
 "nbformat": 4,
 "nbformat_minor": 5
}
