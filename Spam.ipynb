{
 "cells": [
  {
   "cell_type": "markdown",
   "id": "b2859686-0c33-4788-8167-2ca40ab026a8",
   "metadata": {},
   "source": [
    " Downloading the Data"
   ]
  },
  {
   "cell_type": "code",
   "execution_count": 1,
   "id": "594d07ca-8c60-434e-87c0-f6901444b9aa",
   "metadata": {},
   "outputs": [],
   "source": [
    "import os\n",
    "import tarfile\n",
    "import urllib.request\n",
    "\n",
    "Down_path_root = \"http://spamassassin.apache.org/old/publiccorpus/\"\n",
    "spam_path = Down_path_root + \"20030228_easy_ham.tar.bz2\"\n",
    "ham_path = Down_path_root + \"20030228_spam.tar.bz2\"\n",
    "out_path = os.path.join(\"datasets\",\"spam\")\n",
    "\n",
    "def fetch_data(ham_url = ham_path,spam_url = spam_path,output = out_path):\n",
    "    if not os.path.isdir(output):\n",
    "        os.makedirs(output)\n",
    "    for filename,url in ((\"ham.tar.bz2\",ham_url),(\"spam.tar.bz2\",spam_url)):\n",
    "        path = os.path.join(output,filename)\n",
    "        if not os.path.isfile(path):\n",
    "            urllib.request.urlretrieve(url,path)\n",
    "        tar_bz2_file = tarfile.open(path)\n",
    "        tar_bz2_file.extractall(path=output)\n",
    "        tar_bz2_file.close()"
   ]
  },
  {
   "cell_type": "code",
   "execution_count": 2,
   "id": "869e85b6-1bcd-4309-8705-4f3ba73425a3",
   "metadata": {},
   "outputs": [],
   "source": [
    "fetch_data()"
   ]
  },
  {
   "cell_type": "markdown",
   "id": "e9a7beeb-3ec4-4ed7-9d28-4818cb139cc5",
   "metadata": {},
   "source": [
    "Loading the Data"
   ]
  },
  {
   "cell_type": "code",
   "execution_count": 4,
   "id": "9066f1a3-8829-4af4-b32f-358f5875b548",
   "metadata": {},
   "outputs": [],
   "source": [
    "hamDir = os.path.join(out_path,\"easy_ham\")\n",
    "spamDir = os.path.join(out_path,\"spam\")\n",
    "hamFileNames = [name for name in sorted(os.listdir(hamDir)) if len(name) > 20]\n",
    "spamFileNames = [name for name in sorted(os.listdir(spamDir)) if len(name) > 20]"
   ]
  },
  {
   "cell_type": "code",
   "execution_count": 5,
   "id": "bceb40c3-a4fd-4ecc-a85e-1d1231770b91",
   "metadata": {},
   "outputs": [
    {
     "data": {
      "text/plain": [
       "2500"
      ]
     },
     "execution_count": 5,
     "metadata": {},
     "output_type": "execute_result"
    }
   ],
   "source": [
    "len(hamFileNames)"
   ]
  },
  {
   "cell_type": "code",
   "execution_count": 6,
   "id": "ea8f20ab-6e48-4325-8570-57f47d60220b",
   "metadata": {},
   "outputs": [
    {
     "data": {
      "text/plain": [
       "500"
      ]
     },
     "execution_count": 6,
     "metadata": {},
     "output_type": "execute_result"
    }
   ],
   "source": [
    "len(spamFileNames)"
   ]
  },
  {
   "cell_type": "markdown",
   "id": "931bb05a-1e58-4199-b7e6-a17efe47b055",
   "metadata": {},
   "source": [
    "using Python Email module for parsing"
   ]
  },
  {
   "cell_type": "code",
   "execution_count": 7,
   "id": "ae7f62ca-9298-41f6-bacc-53062854b331",
   "metadata": {},
   "outputs": [],
   "source": [
    "import email\n",
    "import email.policy\n",
    "\n",
    "def load_email(is_spam, filename, spamPath = out_path):\n",
    "    directory = \"spam\" if is_spam else \"easy_ham\"\n",
    "    with open(os.path.join(spamPath,directory,filename),\"rb\") as f:\n",
    "        return email.parser.BytesParser(policy=email.policy.default).parse(f)"
   ]
  },
  {
   "cell_type": "code",
   "execution_count": 8,
   "id": "7dfc982c-cb85-43f1-989b-911d87c43105",
   "metadata": {},
   "outputs": [],
   "source": [
    "hamEmails = [load_email(is_spam = False, filename = name) for name in hamFileNames]\n",
    "spamEmails = [load_email(is_spam = True, filename = name) for name in spamFileNames]"
   ]
  },
  {
   "cell_type": "code",
   "execution_count": 9,
   "id": "c8312e19-5569-4629-a8f6-651ecf24a55b",
   "metadata": {},
   "outputs": [
    {
     "data": {
      "text/plain": [
       "2500"
      ]
     },
     "execution_count": 9,
     "metadata": {},
     "output_type": "execute_result"
    }
   ],
   "source": [
    "len(hamEmails)"
   ]
  },
  {
   "cell_type": "code",
   "execution_count": 10,
   "id": "693cfcf6-4d14-44ae-aa00-c278d716ad27",
   "metadata": {},
   "outputs": [
    {
     "name": "stdout",
     "output_type": "stream",
     "text": [
      "Martin A posted:\n",
      "Tassos Papadopoulos, the Greek sculptor behind the plan, judged that the\n",
      " limestone of Mount Kerdylio, 70 miles east of Salonika and not far from the\n",
      " Mount Athos monastic community, was ideal for the patriotic sculpture. \n",
      " \n",
      " As well as Alexander's granite features, 240 ft high and 170 ft wide, a\n",
      " museum, a restored amphitheatre and car park for admiring crowds are\n",
      "planned\n",
      "---------------------\n",
      "So is this mountain limestone or granite?\n",
      "If it's limestone, it'll weather pretty fast.\n",
      "\n",
      "------------------------ Yahoo! Groups Sponsor ---------------------~-->\n",
      "4 DVDs Free +s&p Join Now\n",
      "http://us.click.yahoo.com/pt6YBB/NXiEAA/mG3HAA/7gSolB/TM\n",
      "---------------------------------------------------------------------~->\n",
      "\n",
      "To unsubscribe from this group, send an email to:\n",
      "forteana-unsubscribe@egroups.com\n",
      "\n",
      " \n",
      "\n",
      "Your use of Yahoo! Groups is subject to http://docs.yahoo.com/info/terms/\n"
     ]
    }
   ],
   "source": [
    "print(hamEmails[1].get_content().strip())"
   ]
  },
  {
   "cell_type": "code",
   "execution_count": 11,
   "id": "bc6e615b-093c-4c2c-8501-628767e241a0",
   "metadata": {},
   "outputs": [
    {
     "name": "stdout",
     "output_type": "stream",
     "text": [
      "1) Fight The Risk of Cancer!\n",
      "http://www.adclick.ws/p.cfm?o=315&s=pk007\n",
      "\n",
      "2) Slim Down - Guaranteed to lose 10-12 lbs in 30 days\n",
      "http://www.adclick.ws/p.cfm?o=249&s=pk007\n",
      "\n",
      "3) Get the Child Support You Deserve - Free Legal Advice\n",
      "http://www.adclick.ws/p.cfm?o=245&s=pk002\n",
      "\n",
      "4) Join the Web's Fastest Growing Singles Community\n",
      "http://www.adclick.ws/p.cfm?o=259&s=pk007\n",
      "\n",
      "5) Start Your Private Photo Album Online!\n",
      "http://www.adclick.ws/p.cfm?o=283&s=pk007\n",
      "\n",
      "Have a Wonderful Day,\n",
      "Offer Manager\n",
      "PrizeMama\n",
      "\n",
      "\n",
      "\n",
      "\n",
      "\n",
      "\n",
      "\n",
      "\n",
      "\n",
      "\n",
      "\n",
      "\n",
      "\n",
      "If you wish to leave this list please use the link below.\n",
      "http://www.qves.com/trim/?ilug@linux.ie%7C17%7C114258\n",
      "\n",
      "\n",
      "-- \n",
      "Irish Linux Users' Group: ilug@linux.ie\n",
      "http://www.linux.ie/mailman/listinfo/ilug for (un)subscription information.\n",
      "List maintainer: listmaster@linux.ie\n"
     ]
    }
   ],
   "source": [
    "print(spamEmails[1].get_content().strip())"
   ]
  },
  {
   "cell_type": "code",
   "execution_count": null,
   "id": "cb676564-e3a8-4133-a16c-1510d6ce4953",
   "metadata": {},
   "outputs": [],
   "source": []
  }
 ],
 "metadata": {
  "kernelspec": {
   "display_name": "Python 3 (ipykernel)",
   "language": "python",
   "name": "python3"
  },
  "language_info": {
   "codemirror_mode": {
    "name": "ipython",
    "version": 3
   },
   "file_extension": ".py",
   "mimetype": "text/x-python",
   "name": "python",
   "nbconvert_exporter": "python",
   "pygments_lexer": "ipython3",
   "version": "3.12.3"
  }
 },
 "nbformat": 4,
 "nbformat_minor": 5
}
